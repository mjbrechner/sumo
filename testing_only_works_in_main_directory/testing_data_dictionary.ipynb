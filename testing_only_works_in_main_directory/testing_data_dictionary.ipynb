{
 "cells": [
  {
   "cell_type": "code",
   "execution_count": 5,
   "metadata": {},
   "outputs": [],
   "source": [
    "import pandas as pd\n",
    "pd.set_option('display.max_colwidth', None)"
   ]
  },
  {
   "cell_type": "code",
   "execution_count": 25,
   "metadata": {},
   "outputs": [
    {
     "data": {
      "text/html": [
       "<style type=\"text/css\">\n",
       "#T_1a192_row0_col0, #T_1a192_row0_col1, #T_1a192_row1_col0, #T_1a192_row1_col1, #T_1a192_row2_col0, #T_1a192_row2_col1, #T_1a192_row3_col0, #T_1a192_row3_col1, #T_1a192_row4_col0, #T_1a192_row4_col1, #T_1a192_row5_col0, #T_1a192_row5_col1, #T_1a192_row6_col0, #T_1a192_row6_col1, #T_1a192_row7_col0, #T_1a192_row7_col1, #T_1a192_row8_col0, #T_1a192_row8_col1, #T_1a192_row9_col0, #T_1a192_row9_col1 {\n",
       "  text-align: left;\n",
       "}\n",
       "</style>\n",
       "<table id=\"T_1a192\">\n",
       "  <thead>\n",
       "    <tr>\n",
       "      <th class=\"blank level0\" >&nbsp;</th>\n",
       "      <th id=\"T_1a192_level0_col0\" class=\"col_heading level0 col0\" >rank</th>\n",
       "      <th id=\"T_1a192_level0_col1\" class=\"col_heading level0 col1\" >definition</th>\n",
       "    </tr>\n",
       "  </thead>\n",
       "  <tbody>\n",
       "    <tr>\n",
       "      <th id=\"T_1a192_level0_row0\" class=\"row_heading level0 row0\" >0</th>\n",
       "      <td id=\"T_1a192_row0_col0\" class=\"data row0 col0\" >yokozuna</td>\n",
       "      <td id=\"T_1a192_row0_col1\" class=\"data row0 col1\" >The highest rank in the top Makuuchi division of sumo. Promotion to this rank is only bestowed upon special consideration. Wrestlers at this rank can never be demoted.</td>\n",
       "    </tr>\n",
       "    <tr>\n",
       "      <th id=\"T_1a192_level0_row1\" class=\"row_heading level0 row1\" >1</th>\n",
       "      <td id=\"T_1a192_row1_col0\" class=\"data row1 col0\" >ozeki</td>\n",
       "      <td id=\"T_1a192_row1_col1\" class=\"data row1 col1\" >The second-highest rank, though it used to be the highest before the yokozuna title came into use. Promotion to ozeki is also not automatic, and demotion requires a multi-step process.</td>\n",
       "    </tr>\n",
       "    <tr>\n",
       "      <th id=\"T_1a192_level0_row2\" class=\"row_heading level0 row2\" >2</th>\n",
       "      <td id=\"T_1a192_row2_col0\" class=\"data row2 col0\" >sekiwake</td>\n",
       "      <td id=\"T_1a192_row2_col1\" class=\"data row2 col1\" >The third-highest rank, and the top rank that a wrestler can conceivably achieve through a consistent winning record.</td>\n",
       "    </tr>\n",
       "    <tr>\n",
       "      <th id=\"T_1a192_level0_row3\" class=\"row_heading level0 row3\" >3</th>\n",
       "      <td id=\"T_1a192_row3_col0\" class=\"data row3 col0\" >komusubi</td>\n",
       "      <td id=\"T_1a192_row3_col1\" class=\"data row3 col1\" >The fourth-highest rank, the lowest of the san'yaku titleholder ranks.</td>\n",
       "    </tr>\n",
       "    <tr>\n",
       "      <th id=\"T_1a192_level0_row4\" class=\"row_heading level0 row4\" >4</th>\n",
       "      <td id=\"T_1a192_row4_col0\" class=\"data row4 col0\" >maegashira</td>\n",
       "      <td id=\"T_1a192_row4_col1\" class=\"data row4 col1\" >After the higher san'yaku ranks, the rest of the top makuuchi division features the maegashira ranks. The highest is maegashira-1, followed by maegashira-2, maegashira-3, etc.</td>\n",
       "    </tr>\n",
       "    <tr>\n",
       "      <th id=\"T_1a192_level0_row5\" class=\"row_heading level0 row5\" >5</th>\n",
       "      <td id=\"T_1a192_row5_col0\" class=\"data row5 col0\" >juryo</td>\n",
       "      <td id=\"T_1a192_row5_col1\" class=\"data row5 col1\" >The second division of sumo, fixed at 28 wrestlers. Wrestlers in this division are ranked from the top starting at juryo-1.</td>\n",
       "    </tr>\n",
       "    <tr>\n",
       "      <th id=\"T_1a192_level0_row6\" class=\"row_heading level0 row6\" >6</th>\n",
       "      <td id=\"T_1a192_row6_col0\" class=\"data row6 col0\" >makushita</td>\n",
       "      <td id=\"T_1a192_row6_col1\" class=\"data row6 col1\" >The third-highest division, with 120 wrestlers. Rankings go down from from the top starting at makushita-1.</td>\n",
       "    </tr>\n",
       "    <tr>\n",
       "      <th id=\"T_1a192_level0_row7\" class=\"row_heading level0 row7\" >7</th>\n",
       "      <td id=\"T_1a192_row7_col0\" class=\"data row7 col0\" >sandanme</td>\n",
       "      <td id=\"T_1a192_row7_col1\" class=\"data row7 col1\" >The fourth-highest division. Wrestlers in this division are ranked from the top starting at sandanme-1.</td>\n",
       "    </tr>\n",
       "    <tr>\n",
       "      <th id=\"T_1a192_level0_row8\" class=\"row_heading level0 row8\" >8</th>\n",
       "      <td id=\"T_1a192_row8_col0\" class=\"data row8 col0\" >jonidan</td>\n",
       "      <td id=\"T_1a192_row8_col1\" class=\"data row8 col1\" >The fifth-highest division of sumo, with wrestlers ranked from the top starting at jonidan-1.</td>\n",
       "    </tr>\n",
       "    <tr>\n",
       "      <th id=\"T_1a192_level0_row9\" class=\"row_heading level0 row9\" >9</th>\n",
       "      <td id=\"T_1a192_row9_col0\" class=\"data row9 col0\" >jonokuchi</td>\n",
       "      <td id=\"T_1a192_row9_col1\" class=\"data row9 col1\" >The lowest division, the entry point for all wrestlers except for amateurs with  dispensation to enter at a higher rank. Wrestlers are ranked starting from jonokuchi-1.</td>\n",
       "    </tr>\n",
       "  </tbody>\n",
       "</table>\n"
      ],
      "text/plain": [
       "<pandas.io.formats.style.Styler at 0x18a6ef39750>"
      ]
     },
     "execution_count": 25,
     "metadata": {},
     "output_type": "execute_result"
    }
   ],
   "source": [
    "sumo_ranks_data_dict = {\n",
    "    \"yokozuna\": \"The highest rank in the top Makuuchi division of sumo. Promotion to this rank is only bestowed upon special consideration. Wrestlers at this rank can never be demoted.\",\n",
    "    \"ozeki\": \"The second-highest rank, though it used to be the highest before the yokozuna title came into use. Promotion to ozeki is also not automatic, and demotion requires a multi-step process.\",\n",
    "    \"sekiwake\": \"The third-highest rank, and the top rank that a wrestler can conceivably achieve through a consistent winning record.\",\n",
    "    \"komusubi\": \"The fourth-highest rank, the lowest of the san'yaku titleholder ranks.\",\n",
    "    \"maegashira\": \"After the higher san'yaku ranks, the rest of the top makuuchi division features the maegashira ranks. The highest is maegashira-1, followed by maegashira-2, maegashira-3, etc.\",\n",
    "    \"juryo\": \"The second division of sumo, fixed at 28 wrestlers. Wrestlers in this division are ranked from the top starting at juryo-1.\",\n",
    "    \"makushita\": \"The third-highest division, with 120 wrestlers. Rankings go down from from the top starting at makushita-1.\",\n",
    "    \"sandanme\": \"The fourth-highest division. Wrestlers in this division are ranked from the top starting at sandanme-1.\",\n",
    "    \"jonidan\": \"The fifth-highest division of sumo, with wrestlers ranked from the top starting at jonidan-1.\",\n",
    "    \"jonokuchi\": \"The lowest division, the entry point for all wrestlers except for amateurs with  dispensation to enter at a higher rank. Wrestlers are ranked starting from jonokuchi-1.\"\n",
    "}\n",
    "\n",
    "sumo_ranks_data_dict_df = pd.DataFrame.from_dict(sumo_ranks_data_dict, orient=\"index\")\n",
    "sumo_ranks_data_dict_df = sumo_ranks_data_dict_df.reset_index()\n",
    "sumo_ranks_data_dict_df.columns = [\"rank\", \"definition\"]\n",
    "sumo_ranks_data_dict_df = sumo_ranks_data_dict_df.style.set_properties(**{\"text-align\": \"left\"})\n",
    "sumo_ranks_data_dict_df"
   ]
  }
 ],
 "metadata": {
  "kernelspec": {
   "display_name": "Python 3",
   "language": "python",
   "name": "python3"
  },
  "language_info": {
   "codemirror_mode": {
    "name": "ipython",
    "version": 3
   },
   "file_extension": ".py",
   "mimetype": "text/x-python",
   "name": "python",
   "nbconvert_exporter": "python",
   "pygments_lexer": "ipython3",
   "version": "3.11.4"
  }
 },
 "nbformat": 4,
 "nbformat_minor": 2
}
